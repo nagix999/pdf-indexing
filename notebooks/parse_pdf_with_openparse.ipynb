{
 "cells": [
  {
   "cell_type": "code",
   "execution_count": 1,
   "metadata": {},
   "outputs": [],
   "source": [
    "import os\n",
    "from uuid import uuid4\n",
    "from typing import Tuple\n",
    "from pathlib import Path\n",
    "import openparse\n",
    "from openparse.schemas import TableElement, TextElement, ImageElement, LineElement\n",
    "import pdfplumber"
   ]
  },
  {
   "cell_type": "code",
   "execution_count": 2,
   "metadata": {},
   "outputs": [],
   "source": [
    "PDF_PATH = \"../data/pdf\"\n",
    "IMAGE_PATH = \"../data/images\"\n",
    "\n",
    "pdf_path = Path(PDF_PATH)\n",
    "image_path = Path(IMAGE_PATH)"
   ]
  },
  {
   "cell_type": "code",
   "execution_count": 9,
   "metadata": {},
   "outputs": [],
   "source": [
    "# 테스트 PDF 파일(https://arxiv.org/pdf/2410.10315v1)\n",
    "# filepath = pdf_path / \"EasyRAG: Efficient Retrieval-Augmented Generation Framework for Automated Network Operations.pdf\"\n",
    "filepath = pdf_path / \"LightRAG: Simple and Fast Retrieval-Augmented Generation.pdf\""
   ]
  },
  {
   "cell_type": "code",
   "execution_count": 10,
   "metadata": {},
   "outputs": [],
   "source": [
    "table_args={\n",
    "    \"parsing_algorithm\": \"unitable\",\n",
    "    \"min_table_confidence\": 0.8,\n",
    "}\n",
    "parser = openparse.DocumentParser(table_args=table_args)\n",
    "parsed_basic_doc = parser.parse(filepath)"
   ]
  },
  {
   "cell_type": "code",
   "execution_count": 11,
   "metadata": {},
   "outputs": [],
   "source": [
    "allowed_elements = [TextElement, LineElement, TableElement, ImageElement]\n",
    "\n",
    "all_elements = []\n",
    "\n",
    "nodes = parsed_basic_doc.nodes\n",
    "for node in nodes:\n",
    "    for elements in node.elements:\n",
    "        if type(elements) in allowed_elements:\n",
    "            all_elements.append(elements)\n",
    "            continue\n",
    "        for element in elements:\n",
    "            if type(element) in allowed_elements:\n",
    "                all_elements.append(element)\n",
    "\n",
    "table_elements = [element for element in all_elements if isinstance(element, TableElement)]"
   ]
  },
  {
   "cell_type": "code",
   "execution_count": 12,
   "metadata": {},
   "outputs": [],
   "source": [
    "def extract_pdf_image(pdf_path, element, save_path, resolution=500):\n",
    "    def _get_bbox(element) -> Tuple[float, float, float, float]:\n",
    "        return (element.bbox.x0, \n",
    "                element.bbox.page_height - element.bbox.y1, \n",
    "                element.bbox.x1, \n",
    "                element.bbox.page_height - element.bbox.y0)\n",
    "    \n",
    "    pdf_obj = pdfplumber.open(pdf_path)\n",
    "    page = pdf_obj.pages[element.bbox.page]\n",
    "    cropped_page = page.crop(_get_bbox(element))\n",
    "    image = cropped_page.to_image(resolution=resolution)\n",
    "    image.save(save_path)"
   ]
  },
  {
   "cell_type": "code",
   "execution_count": 15,
   "metadata": {},
   "outputs": [],
   "source": [
    "for element in all_elements:\n",
    "    if isinstance(element, TableElement):\n",
    "        filename = f\"t-{uuid4()}.jpg\" \n",
    "    elif isinstance(element, ImageElement):\n",
    "        filename = f\"i-{uuid4()}.jpg\" \n",
    "    else:\n",
    "        continue\n",
    "\n",
    "    save_path = image_path / filename\n",
    "    extract_pdf_image(filepath, element, save_path)\n",
    "    "
   ]
  }
 ],
 "metadata": {
  "kernelspec": {
   "display_name": "venv",
   "language": "python",
   "name": "python3"
  },
  "language_info": {
   "codemirror_mode": {
    "name": "ipython",
    "version": 3
   },
   "file_extension": ".py",
   "mimetype": "text/x-python",
   "name": "python",
   "nbconvert_exporter": "python",
   "pygments_lexer": "ipython3",
   "version": "3.10.12"
  }
 },
 "nbformat": 4,
 "nbformat_minor": 2
}
