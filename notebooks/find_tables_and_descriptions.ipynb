{
 "cells": [
  {
   "cell_type": "code",
   "execution_count": 2,
   "metadata": {},
   "outputs": [],
   "source": [
    "import os\n",
    "from uuid import uuid4\n",
    "from typing import Optional, Union, List, Tuple\n",
    "from pydantic import BaseModel\n",
    "from pathlib import Path\n",
    "import openparse\n",
    "from openparse.schemas import TableElement, TextElement, ImageElement, LineElement\n",
    "import pdfplumber\n",
    "from IPython.display import HTML, display\n",
    "from langchain_openai import ChatOpenAI\n",
    "from langchain_core.prompts import PromptTemplate\n",
    "from langchain_core.output_parsers import StrOutputParser\n",
    "\n",
    "\n",
    "class TextIOU(BaseModel):\n",
    "    element: TextElement\n",
    "    target_table: TableElement\n",
    "    iou: float\n",
    "\n",
    "    @property\n",
    "    def text(self):\n",
    "        return self.element.text\n",
    "\n",
    "def get_bbox(element: Union[TableElement, TextElement]) -> Tuple[float, float, float, float]:\n",
    "    x0 = element.bbox.x0\n",
    "    y0 = element.bbox.y0\n",
    "    x1 = element.bbox.x1\n",
    "    y1 = element.bbox.y1\n",
    "\n",
    "    return (x0, y0, x1, y1)\n",
    "\n",
    "def calc_text_iou(table_element: TableElement, text_element: TextElement, y_offsets: Tuple[float, float]) -> float:\n",
    "    b1x0, b1y0, b1x1, b1y1 = get_bbox(table_element)\n",
    "    b2x0, b2y0, b2x1, b2y1 = get_bbox(text_element)\n",
    "\n",
    "    b1y0, b1y1 = b1y0 - y_offsets[0], b1y1 + y_offsets[1]\n",
    "\n",
    "    left = max(b1x0, b2x0)\n",
    "    top = max(b1y0, b2y0)\n",
    "    right = min(b1x1, b2x1)\n",
    "    bottom = min(b1y1, b2y1)\n",
    "\n",
    "    if right < left or bottom < top:\n",
    "        return 0.0\n",
    "\n",
    "    intersection_area = (right - left) * (bottom - top)\n",
    "    text_area = (b2x1 - b2x0) * (b2y1 - b2y0)\n",
    "    iou = intersection_area / text_area\n",
    "\n",
    "    return iou\n",
    "\n",
    "def find_description_by_iou(candidates: List[TextIOU]) -> str:\n",
    "    if not candidates:\n",
    "        return \"Not found\"\n",
    "    \n",
    "    table_descriptions = \\\n",
    "        [candidate for candidate in candidates if candidate.text.lower().startswith(\"table\")]\n",
    "    \n",
    "    if table_descriptions:\n",
    "        highest_iou = 0\n",
    "        highest = None\n",
    "        for candidate in table_descriptions:\n",
    "            if highest_iou <= candidate.iou:\n",
    "                highest_iou = candidate.iou\n",
    "                highest = candidate\n",
    "        return highest.text.replace(\"\\n\", \" \")\n",
    "    \n",
    "    highest = sorted(candidates, key=lambda x: x.iou, reverse=True)[0]\n",
    "    return highest.text.replace(\"\\n\", \" \")\n",
    "\n",
    "def refine(table_html: str, window_context: List[str]):\n",
    "    template = \"\"\"# Role\n",
    "You're an expert at refining and modifying HTML tables.\n",
    "Given a table and its surrounding contextual information, you need to fix and correct what is wrong or incorrect about the table's columns and data.\n",
    "Do not add data by referencing and inferring from the contextual information. The number of rows does not change.\n",
    "If a description of the table exists in the contextual information, add it as a <h2> tag.\n",
    "Your answers are formatted as HTML code only (e.g., <html> ... </html>).\n",
    "# TABLE\n",
    "{table_html}\n",
    "\n",
    "# CONTEXT\n",
    "{context}\n",
    "\n",
    "html:\"\"\"\n",
    "\n",
    "    prompt = PromptTemplate.from_template(template)\n",
    "    llm = ChatOpenAI(model_name=\"gpt-4o\")\n",
    "    ouput_parser = StrOutputParser()\n",
    "\n",
    "    chain = prompt | llm | ouput_parser\n",
    "    return chain.invoke({\"table_html\": table_html, \"context\": \"\\n\\n\".join(window_context)})"
   ]
  },
  {
   "cell_type": "code",
   "execution_count": 3,
   "metadata": {},
   "outputs": [],
   "source": [
    "os.environ[\"OPENAI_API_KEY\"] = \"...\"\n",
    "\n",
    "PDF_PATH = \"../data/pdf\"\n",
    "IMAGE_PATH = \"../data/images\"\n",
    "pdf_path = Path(PDF_PATH)\n",
    "image_path = Path(IMAGE_PATH)"
   ]
  },
  {
   "cell_type": "code",
   "execution_count": 4,
   "metadata": {},
   "outputs": [],
   "source": [
    "# 테스트 PDF 파일(https://arxiv.org/pdf/2410.10315v1)\n",
    "filepath = pdf_path / \"EasyRAG: Efficient Retrieval-Augmented Generation Framework for Automated Network Operations.pdf\""
   ]
  },
  {
   "cell_type": "code",
   "execution_count": 5,
   "metadata": {},
   "outputs": [
    {
     "name": "stderr",
     "output_type": "stream",
     "text": [
      "/home/nagix/projects/langchain-app/venv/lib/python3.10/site-packages/tqdm/auto.py:21: TqdmWarning: IProgress not found. Please update jupyter and ipywidgets. See https://ipywidgets.readthedocs.io/en/stable/user_install.html\n",
      "  from .autonotebook import tqdm as notebook_tqdm\n"
     ]
    },
    {
     "name": "stdout",
     "output_type": "stream",
     "text": [
      "Finished loading models. Ready for inference.\n"
     ]
    }
   ],
   "source": [
    "table_args={\n",
    "    \"parsing_algorithm\": \"unitable\",\n",
    "    \"min_table_confidence\": 0.8,\n",
    "}\n",
    "parser = openparse.DocumentParser(table_args=table_args)\n",
    "parsed_basic_doc = parser.parse(filepath)"
   ]
  },
  {
   "cell_type": "code",
   "execution_count": 6,
   "metadata": {},
   "outputs": [],
   "source": [
    "table_elements = []\n",
    "text_elements = []\n",
    "\n",
    "for node in parsed_basic_doc.nodes:\n",
    "    for idx, element in enumerate(node.elements):\n",
    "        if isinstance(element, TableElement):\n",
    "            table_elements.append(element)\n",
    "        \n",
    "        if isinstance(element, TextElement):\n",
    "            text_elements.append(element)"
   ]
  },
  {
   "cell_type": "code",
   "execution_count": 7,
   "metadata": {},
   "outputs": [
    {
     "name": "stdout",
     "output_type": "stream",
     "text": [
      "Not found\n"
     ]
    },
    {
     "data": {
      "text/html": [
       "<html>\n",
       "        <head> <meta charset=\"UTF-8\">\n",
       "        <style>\n",
       "        table, th, td {\n",
       "            border: 1px solid black;\n",
       "            font-size: 10px;\n",
       "        }\n",
       "        </style> </head>\n",
       "        <body>\n",
       "        <table frame=\"hsides\" rules=\"groups\" width=\"100%%\">\n",
       "            <thead><tr><td>id</td><td>data</td><td>chunk</td><td>coarse ranking</td><td>re - ranking</td><td>fusion</td><td>accuracy</td></tr></thead><tbody><tr><td>0</td><td>@</td><td>1024.50</td><td>( j ), 3</td><td>-</td><td>-</td><td>57.86</td></tr><tr><td>1</td><td>( θ )</td><td>1024.50</td><td>Q, 8</td><td>-</td><td>-</td><td>68.59</td></tr><tr><td>2</td><td>@</td><td>1024.50</td><td>( 3 ), 8</td><td>-</td><td>-</td><td>69.55</td></tr><tr><td>3</td><td>@</td><td>1024.50</td><td>Q, 192</td><td>Q, 8</td><td>-</td><td>73.73</td></tr><tr><td>4</td><td>@</td><td>1024.50</td><td>Q, 256</td><td>Q, 8</td><td>-</td><td>70.68</td></tr><tr><td>5</td><td>( θ )</td><td>1024.50</td><td>( 2 ), 192</td><td>Q, 8</td><td>-</td><td>69.25</td></tr><tr><td>6</td><td>( θ )</td><td>1024.50</td><td>( T ), 288</td><td>(≥), 8</td><td>-</td><td>77.07</td></tr><tr><td>7</td><td>Q</td><td>1024.50</td><td>Q, 288</td><td>(≥), 8</td><td>-</td><td>77.51</td></tr><tr><td>8</td><td>( 2 )</td><td>1024.50</td><td>( T ), 288</td><td>(≥), 8</td><td>-</td><td>77.92</td></tr><tr><td>9</td><td>( 2 )</td><td>1024.50</td><td>( 1 ), 256</td><td>(≥), 8</td><td>-</td><td>78.49</td></tr><tr><td>10</td><td>( T )</td><td>1024.50</td><td>( 5 ), 192</td><td>( 2 ), 6</td><td>-</td><td>80.90</td></tr><tr><td>11</td><td>( 2 )</td><td>1024.50</td><td>( 3 ), 192</td><td>(≥), 6</td><td>-</td><td>81.38</td></tr><tr><td>12</td><td>( 2 )</td><td>1024.100</td><td>( 5 ), 192</td><td>( 2 ), 6</td><td>-</td><td>81.77</td></tr><tr><td>13</td><td>( 2 )</td><td>1024.100</td><td>( 3 ), 192</td><td>( 3 ), 6</td><td>-</td><td>81.88</td></tr><tr><td>14</td><td>( 2 )</td><td>1024.200</td><td>( 3 ), 192</td><td>(≥), 6</td><td>-</td><td>82.87</td></tr><tr><td>15</td><td>( 2 )</td><td>1024.200</td><td>( 3 ), 192</td><td>( 3 ), 6</td><td>-</td><td>82.97</td></tr><tr><td>16</td><td>( 2 )</td><td>1024.200</td><td>( 4 ), 288</td><td>( 3 ), 6</td><td>-</td><td>83.02</td></tr><tr><td>17</td><td>Q</td><td>1024.200</td><td>@, 288 ( 3 ), 192</td><td>( 3 ), 6</td><td>G</td><td>81.80</td></tr><tr><td>18</td><td>( 2 )</td><td>1024.200</td><td>Gly, 288 ( 3 ), 192</td><td>( 3 ), 6</td><td>( T )</td><td>82.50</td></tr><tr><td>19</td><td>Q</td><td>1024.200</td><td>@, 288 ( 3 ), 192</td><td>( 3 ), 6</td><td>(≥)</td><td>83.45</td></tr><tr><td>20</td><td>( 2 )</td><td>1024.200</td><td>Gly, 288 ( 3 ), 192</td><td>( 3 ), 6</td><td>( 3 )</td><td>83.70</td></tr><tr><td>21</td><td>Q</td><td>1024.200</td><td>@, 288 ( 3 ), 192</td><td>( 3 ), 6</td><td>Q</td><td>84.38</td></tr></tbody>\n",
       "        </table> </body> </html>"
      ],
      "text/plain": [
       "<IPython.core.display.HTML object>"
      ]
     },
     "metadata": {},
     "output_type": "display_data"
    },
    {
     "name": "stdout",
     "output_type": "stream",
     "text": [
      "Table 2: Semi-final experimental results. In the ’Chunk’ column, the two numbers represent chunk_size and  chunk_overlap, respectively. In the ’Coarse Ranking’ and ’Re-ranking’ columns, multiple search paths are separated  by spaces, and within each search path, the components separated by commas represent the retrieval/sorting method,  top-k, and the type of document expansion (if no expansion is applied, it is not listed). \n"
     ]
    },
    {
     "data": {
      "text/html": [
       "<html>\n",
       "        <head> <meta charset=\"UTF-8\">\n",
       "        <style>\n",
       "        table, th, td {\n",
       "            border: 1px solid black;\n",
       "            font-size: 10px;\n",
       "        }\n",
       "        </style> </head>\n",
       "        <body>\n",
       "        <table frame=\"hsides\" rules=\"groups\" width=\"100%%\">\n",
       "            <thead><tr><td>id</td><td>data</td><td>chunk</td><td>coarse ranking</td><td>re - ranking</td><td>fusion</td><td>image</td><td>answer merge</td><td>accuracy</td></tr></thead><tbody><tr><td>0</td><td>( 2 )</td><td>960.200</td><td>3.192</td><td>( 3.6</td><td>-</td><td>-</td><td>-</td><td>91.53</td></tr><tr><td>1</td><td>( 2 )</td><td>960.200</td><td>( 4 ), 288</td><td>( 3 ), 6</td><td>-</td><td>-</td><td>-</td><td>88.40</td></tr><tr><td>2</td><td>( 2 )</td><td>960.200</td><td>( 4 ), 288 ( 3 ), 192</td><td>( 3.6</td><td>(≥)</td><td>-</td><td>-</td><td>90.00</td></tr><tr><td>3</td><td>( 3 )</td><td>1024.200</td><td>( 3 ), 192</td><td>( 3.6</td><td>-</td><td>-</td><td>-</td><td>90.26</td></tr><tr><td>4</td><td>ð4Þ</td><td>1024.200</td><td>( 3 ), 192</td><td>3.6</td><td>-</td><td>-</td><td>-</td><td>91.38</td></tr><tr><td>5</td><td>( 3 )</td><td>1024.200</td><td>( 3 ), 192,( l )</td><td>3.6</td><td>-</td><td>-</td><td>-</td><td>92.70</td></tr><tr><td>6</td><td>( 3 )</td><td>1024.200</td><td>( 3 ), 192, Q</td><td>( 3.6, 1 )</td><td>-</td><td>-</td><td>-</td><td>89.30</td></tr><tr><td>7</td><td>( 3 )</td><td>1024.200</td><td>( 3 ), 192,( l )</td><td>3.6, 2</td><td>-</td><td>-</td><td>-</td><td>87.12</td></tr><tr><td>8</td><td>( 3 )</td><td>1024.200</td><td>( 3 ), 192,( 2 )</td><td>( 3.6</td><td>-</td><td>-</td><td>-</td><td>92.43</td></tr><tr><td>9</td><td>( 3 )</td><td>1024.200</td><td>( 3 ), 192,( 2 )</td><td>( 3.6,( T )</td><td>-</td><td>-</td><td>-</td><td>93.11</td></tr><tr><td>10</td><td>( 3 )</td><td>1024.200</td><td>( 3 ), 192,( 2 )</td><td>( 3.6,(≥)</td><td>-</td><td>-</td><td>-</td><td>90.17</td></tr><tr><td>11</td><td>( y )</td><td>1024.200</td><td>Q, 192, Q</td><td>Q, 6,°</td><td>-</td><td>OCR Filter</td><td>-</td><td>92.5</td></tr><tr><td>12</td><td>( 3 )</td><td>1024.200</td><td>( 3 ), 192,( 2 )</td><td>3.6,°</td><td>-</td><td>Rule Filter</td><td>-</td><td>94.24</td></tr><tr><td>13</td><td>( 3 )</td><td>1024.200</td><td>( 3 ), 192,( 2 ) ( 5 ), 6</td><td>( 3.6, Q</td><td>(@)</td><td>Rule Filter</td><td>-</td><td>94.49</td></tr><tr><td>14</td><td>( y )</td><td>1024.200</td><td>3.192, Q, 6</td><td>Q, 6,°</td><td>Q</td><td>Rule Filter</td><td>document concat</td><td>96.65</td></tr><tr><td>15</td><td>( y )</td><td>1024.200</td><td>3.192, Q, 6</td><td>Q, 6,°</td><td>Q</td><td>Rule Filter</td><td>prompt merge</td><td>95.72</td></tr></tbody>\n",
       "        </table> </body> </html>"
      ],
      "text/plain": [
       "<IPython.core.display.HTML object>"
      ]
     },
     "metadata": {},
     "output_type": "display_data"
    },
    {
     "name": "stdout",
     "output_type": "stream",
     "text": [
      "Table 3: Rewrite Performance \n"
     ]
    },
    {
     "data": {
      "text/html": [
       "<html>\n",
       "        <head> <meta charset=\"UTF-8\">\n",
       "        <style>\n",
       "        table, th, td {\n",
       "            border: 1px solid black;\n",
       "            font-size: 10px;\n",
       "        }\n",
       "        </style> </head>\n",
       "        <body>\n",
       "        <table frame=\"hsides\" rules=\"groups\" width=\"100%%\">\n",
       "            <thead><tr><td>Method</td><td>Preliminary Accuracy</td></tr></thead><tbody><tr><td>Original</td><td>82.0</td></tr><tr><td>Concat</td><td>78.2</td></tr><tr><td>Summary</td><td>79.4</td></tr></tbody>\n",
       "        </table> </body> </html>"
      ],
      "text/plain": [
       "<IPython.core.display.HTML object>"
      ]
     },
     "metadata": {},
     "output_type": "display_data"
    },
    {
     "name": "stdout",
     "output_type": "stream",
     "text": [
      "Table 4: HyDE Performance \n"
     ]
    },
    {
     "data": {
      "text/html": [
       "<html>\n",
       "        <head> <meta charset=\"UTF-8\">\n",
       "        <style>\n",
       "        table, th, td {\n",
       "            border: 1px solid black;\n",
       "            font-size: 10px;\n",
       "        }\n",
       "        </style> </head>\n",
       "        <body>\n",
       "        <table frame=\"hsides\" rules=\"groups\" width=\"100%%\">\n",
       "            <thead><tr><td>Method</td><td>| Semifinal Accuracy</td></tr></thead><tbody><tr><td>Original</td><td>92.7</td></tr><tr><td>Retrieval + HyDE</td><td>89.2</td></tr><tr><td>rerank + HyDE</td><td>88.2</td></tr></tbody>\n",
       "        </table> </body> </html>"
      ],
      "text/plain": [
       "<IPython.core.display.HTML object>"
      ]
     },
     "metadata": {},
     "output_type": "display_data"
    },
    {
     "name": "stdout",
     "output_type": "stream",
     "text": [
      "Table 5: Effects of Different Prompts \n"
     ]
    },
    {
     "data": {
      "text/html": [
       "<html>\n",
       "        <head> <meta charset=\"UTF-8\">\n",
       "        <style>\n",
       "        table, th, td {\n",
       "            border: 1px solid black;\n",
       "            font-size: 10px;\n",
       "        }\n",
       "        </style> </head>\n",
       "        <body>\n",
       "        <table frame=\"hsides\" rules=\"groups\" width=\"100%%\">\n",
       "            <thead><tr><td>Prompt Type</td><td>Semi - final Accuracy</td></tr></thead><tbody><tr><td>Normal QA Template</td><td>94.49</td></tr><tr><td>CoT QA Template</td><td>89.75</td></tr><tr><td>Markdown Format QA Template</td><td>92.27</td></tr><tr><td>Focused QA Template</td><td>93.51</td></tr></tbody>\n",
       "        </table> </body> </html>"
      ],
      "text/plain": [
       "<IPython.core.display.HTML object>"
      ]
     },
     "metadata": {},
     "output_type": "display_data"
    },
    {
     "name": "stdout",
     "output_type": "stream",
     "text": [
      "Table 6: Effects of BM25 acceleration on the test set.  Time represents the total search time for 103 questions  related to BM25, and accuracy represents the evaluation  score of the final generated answers. \n"
     ]
    },
    {
     "data": {
      "text/html": [
       "<html>\n",
       "        <head> <meta charset=\"UTF-8\">\n",
       "        <style>\n",
       "        table, th, td {\n",
       "            border: 1px solid black;\n",
       "            font-size: 10px;\n",
       "        }\n",
       "        </style> </head>\n",
       "        <body>\n",
       "        <table frame=\"hsides\" rules=\"groups\" width=\"100%%\">\n",
       "            <thead><tr><td>Implementation</td><td>Time ( s )</td><td>Accuracy</td></tr></thead><tbody><tr><td>BM25Okapi</td><td>17</td><td>94.49</td></tr><tr><td>BM25s</td><td>0.05</td><td>94.24</td></tr></tbody>\n",
       "        </table> </body> </html>"
      ],
      "text/plain": [
       "<IPython.core.display.HTML object>"
      ]
     },
     "metadata": {},
     "output_type": "display_data"
    },
    {
     "name": "stdout",
     "output_type": "stream",
     "text": [
      "Table 7: Reranker Acceleration Experiment \n"
     ]
    },
    {
     "data": {
      "text/html": [
       "<html>\n",
       "        <head> <meta charset=\"UTF-8\">\n",
       "        <style>\n",
       "        table, th, td {\n",
       "            border: 1px solid black;\n",
       "            font-size: 10px;\n",
       "        }\n",
       "        </style> </head>\n",
       "        <body>\n",
       "        <table frame=\"hsides\" rules=\"groups\" width=\"100%%\">\n",
       "            <thead><tr><td>Method</td><td>Time ( s ) Similarity (%) Rank</td><td>8 - layer</td><td>1.67</td></tr></thead><tbody><tr><td>73</td><td>2.5</td><td>12 - layer</td><td>2.20</td></tr><tr><td>88</td><td>3.2</td><td>20 - layer</td><td>3.58</td></tr><tr><td>86</td><td>4.0</td><td>28 - layer</td><td>5.25</td></tr><tr><td>100</td><td>6.0</td><td>40 - layer</td><td>7.71</td></tr><tr><td>100</td><td>5.4</td><td>Maximum ( 0.1 )</td><td>2.59</td></tr><tr><td>90</td><td>3.7</td><td>Maximum ( 0.2 )</td><td>3.55</td></tr><tr><td>96</td><td>4.5</td><td>Maximum ( 0.4 )</td><td>4.57</td></tr><tr><td>97</td><td>5.4</td><td>Entropy ( 0.2 )</td><td>2.74</td></tr><tr><td>89</td><td>3.4</td><td>Entropy ( 0.4 )</td><td>3.37</td></tr><tr><td>91</td><td>3.6</td><td>Entropy ( 0.6 )</td><td>4.01</td></tr><tr><td>91</td><td>4.0</td></tr></tbody>\n",
       "        </table> </body> </html>"
      ],
      "text/plain": [
       "<IPython.core.display.HTML object>"
      ]
     },
     "metadata": {},
     "output_type": "display_data"
    },
    {
     "name": "stdout",
     "output_type": "stream",
     "text": [
      "Table 7: Reranker Acceleration Experiment \n"
     ]
    },
    {
     "data": {
      "text/html": [
       "<html>\n",
       "        <head> <meta charset=\"UTF-8\">\n",
       "        <style>\n",
       "        table, th, td {\n",
       "            border: 1px solid black;\n",
       "            font-size: 10px;\n",
       "        }\n",
       "        </style> </head>\n",
       "        <body>\n",
       "        <table frame=\"hsides\" rules=\"groups\" width=\"100%%\">\n",
       "            <thead><tr><td>Compression Algorithm</td><td>Compression Rate (%)</td><td>Tokens Saved</td><td>Accuracy</td><td>Time ( s )</td></tr></thead><tbody><tr><td>Original Context</td><td>100</td><td>0</td><td>94.49</td><td>9.30</td></tr><tr><td>LLMLingua ( 0.5 )</td><td>62.80</td><td>143k</td><td>83.44</td><td>10.47</td></tr><tr><td>LongLLMLingua ( 0.5 )</td><td>62.80</td><td>143k</td><td>80.86</td><td>10.52</td></tr><tr><td>BM25 - Extract ( 0.5 )</td><td>55.92</td><td>160k</td><td>86.48</td><td>7.70</td></tr><tr><td>BM25 - Extract ( 0.8 )</td><td>83.84</td><td>5 %</td><td>89.00</td><td>8.12</td></tr></tbody>\n",
       "        </table> </body> </html>"
      ],
      "text/plain": [
       "<IPython.core.display.HTML object>"
      ]
     },
     "metadata": {},
     "output_type": "display_data"
    }
   ],
   "source": [
    "Y_OFFSETS = (50, 400)\n",
    "MIN_IOU = 0.1\n",
    "\n",
    "for table_element in table_elements:\n",
    "    candidates = []\n",
    "    table_page = table_element.page\n",
    "    lookup_elements = [text for text in text_elements if text.page == table_page]\n",
    "    \n",
    "    # TableElement와 TextElement 간 IOU 계산을 통한 Table description 검색\n",
    "    for text_element in lookup_elements:\n",
    "        text_iou = calc_text_iou(table_element, text_element, Y_OFFSETS)\n",
    "        if text_iou >= MIN_IOU:\n",
    "            candidates.append(\n",
    "                TextIOU(**{\n",
    "                    \"element\": text_element, \n",
    "                    \"target_table\": table_element, \n",
    "                    \"iou\": text_iou\n",
    "                })\n",
    "            )\n",
    "            \n",
    "    description = find_description_by_iou(candidates)\n",
    "\n",
    "    print(description)\n",
    "    display(HTML(table_element.text.replace(\"[html]\", \"\")))\n"
   ]
  },
  {
   "cell_type": "code",
   "execution_count": 8,
   "metadata": {},
   "outputs": [
    {
     "name": "stdout",
     "output_type": "stream",
     "text": [
      "BEFORE\n"
     ]
    },
    {
     "data": {
      "text/html": [
       "<html>\n",
       "        <head> <meta charset=\"UTF-8\">\n",
       "        <style>\n",
       "        table, th, td {\n",
       "            border: 1px solid black;\n",
       "            font-size: 10px;\n",
       "        }\n",
       "        </style> </head>\n",
       "        <body>\n",
       "        <table frame=\"hsides\" rules=\"groups\" width=\"100%%\">\n",
       "            [html]<thead><tr><td>id</td><td>data</td><td>chunk</td><td>coarse ranking</td><td>re - ranking</td><td>fusion</td><td>accuracy</td></tr></thead><tbody><tr><td>0</td><td>@</td><td>1024.50</td><td>( j ), 3</td><td>-</td><td>-</td><td>57.86</td></tr><tr><td>1</td><td>( θ )</td><td>1024.50</td><td>Q, 8</td><td>-</td><td>-</td><td>68.59</td></tr><tr><td>2</td><td>@</td><td>1024.50</td><td>( 3 ), 8</td><td>-</td><td>-</td><td>69.55</td></tr><tr><td>3</td><td>@</td><td>1024.50</td><td>Q, 192</td><td>Q, 8</td><td>-</td><td>73.73</td></tr><tr><td>4</td><td>@</td><td>1024.50</td><td>Q, 256</td><td>Q, 8</td><td>-</td><td>70.68</td></tr><tr><td>5</td><td>( θ )</td><td>1024.50</td><td>( 2 ), 192</td><td>Q, 8</td><td>-</td><td>69.25</td></tr><tr><td>6</td><td>( θ )</td><td>1024.50</td><td>( T ), 288</td><td>(≥), 8</td><td>-</td><td>77.07</td></tr><tr><td>7</td><td>Q</td><td>1024.50</td><td>Q, 288</td><td>(≥), 8</td><td>-</td><td>77.51</td></tr><tr><td>8</td><td>( 2 )</td><td>1024.50</td><td>( T ), 288</td><td>(≥), 8</td><td>-</td><td>77.92</td></tr><tr><td>9</td><td>( 2 )</td><td>1024.50</td><td>( 1 ), 256</td><td>(≥), 8</td><td>-</td><td>78.49</td></tr><tr><td>10</td><td>( T )</td><td>1024.50</td><td>( 5 ), 192</td><td>( 2 ), 6</td><td>-</td><td>80.90</td></tr><tr><td>11</td><td>( 2 )</td><td>1024.50</td><td>( 3 ), 192</td><td>(≥), 6</td><td>-</td><td>81.38</td></tr><tr><td>12</td><td>( 2 )</td><td>1024.100</td><td>( 5 ), 192</td><td>( 2 ), 6</td><td>-</td><td>81.77</td></tr><tr><td>13</td><td>( 2 )</td><td>1024.100</td><td>( 3 ), 192</td><td>( 3 ), 6</td><td>-</td><td>81.88</td></tr><tr><td>14</td><td>( 2 )</td><td>1024.200</td><td>( 3 ), 192</td><td>(≥), 6</td><td>-</td><td>82.87</td></tr><tr><td>15</td><td>( 2 )</td><td>1024.200</td><td>( 3 ), 192</td><td>( 3 ), 6</td><td>-</td><td>82.97</td></tr><tr><td>16</td><td>( 2 )</td><td>1024.200</td><td>( 4 ), 288</td><td>( 3 ), 6</td><td>-</td><td>83.02</td></tr><tr><td>17</td><td>Q</td><td>1024.200</td><td>@, 288 ( 3 ), 192</td><td>( 3 ), 6</td><td>G</td><td>81.80</td></tr><tr><td>18</td><td>( 2 )</td><td>1024.200</td><td>Gly, 288 ( 3 ), 192</td><td>( 3 ), 6</td><td>( T )</td><td>82.50</td></tr><tr><td>19</td><td>Q</td><td>1024.200</td><td>@, 288 ( 3 ), 192</td><td>( 3 ), 6</td><td>(≥)</td><td>83.45</td></tr><tr><td>20</td><td>( 2 )</td><td>1024.200</td><td>Gly, 288 ( 3 ), 192</td><td>( 3 ), 6</td><td>( 3 )</td><td>83.70</td></tr><tr><td>21</td><td>Q</td><td>1024.200</td><td>@, 288 ( 3 ), 192</td><td>( 3 ), 6</td><td>Q</td><td>84.38</td></tr></tbody>\n",
       "        </table> </body> </html>"
      ],
      "text/plain": [
       "<IPython.core.display.HTML object>"
      ]
     },
     "metadata": {},
     "output_type": "display_data"
    },
    {
     "name": "stdout",
     "output_type": "stream",
     "text": [
      "AFTER\n"
     ]
    },
    {
     "data": {
      "text/html": [
       "```html\n",
       "<html>\n",
       "<head> \n",
       "    <meta charset=\"UTF-8\">\n",
       "    <style>\n",
       "        table, th, td {\n",
       "            border: 1px solid black;\n",
       "            font-size: 10px;\n",
       "        }\n",
       "    </style> \n",
       "</head>\n",
       "<body>\n",
       "    <h2>2.1 Abbreviations Introduction</h2>\n",
       "    <table frame=\"hsides\" rules=\"groups\" width=\"100%\">\n",
       "        <thead>\n",
       "            <tr>\n",
       "                <th>id</th>\n",
       "                <th>data</th>\n",
       "                <th>chunk</th>\n",
       "                <th>coarse ranking</th>\n",
       "                <th>re-ranking</th>\n",
       "                <th>fusion</th>\n",
       "                <th>accuracy</th>\n",
       "            </tr>\n",
       "        </thead>\n",
       "        <tbody>\n",
       "            <tr><td>0</td><td>@</td><td>1024.50</td><td>( j ), 3</td><td>-</td><td>-</td><td>57.86</td></tr>\n",
       "            <tr><td>1</td><td>( θ )</td><td>1024.50</td><td>Q, 8</td><td>-</td><td>-</td><td>68.59</td></tr>\n",
       "            <tr><td>2</td><td>@</td><td>1024.50</td><td>( 3 ), 8</td><td>-</td><td>-</td><td>69.55</td></tr>\n",
       "            <tr><td>3</td><td>@</td><td>1024.50</td><td>Q, 192</td><td>Q, 8</td><td>-</td><td>73.73</td></tr>\n",
       "            <tr><td>4</td><td>@</td><td>1024.50</td><td>Q, 256</td><td>Q, 8</td><td>-</td><td>70.68</td></tr>\n",
       "            <tr><td>5</td><td>( θ )</td><td>1024.50</td><td>( 2 ), 192</td><td>Q, 8</td><td>-</td><td>69.25</td></tr>\n",
       "            <tr><td>6</td><td>( θ )</td><td>1024.50</td><td>( T ), 288</td><td>(≥), 8</td><td>-</td><td>77.07</td></tr>\n",
       "            <tr><td>7</td><td>Q</td><td>1024.50</td><td>Q, 288</td><td>(≥), 8</td><td>-</td><td>77.51</td></tr>\n",
       "            <tr><td>8</td><td>( 2 )</td><td>1024.50</td><td>( T ), 288</td><td>(≥), 8</td><td>-</td><td>77.92</td></tr>\n",
       "            <tr><td>9</td><td>( 2 )</td><td>1024.50</td><td>( 1 ), 256</td><td>(≥), 8</td><td>-</td><td>78.49</td></tr>\n",
       "            <tr><td>10</td><td>( T )</td><td>1024.50</td><td>( 5 ), 192</td><td>( 2 ), 6</td><td>-</td><td>80.90</td></tr>\n",
       "            <tr><td>11</td><td>( 2 )</td><td>1024.50</td><td>( 3 ), 192</td><td>(≥), 6</td><td>-</td><td>81.38</td></tr>\n",
       "            <tr><td>12</td><td>( 2 )</td><td>1024.100</td><td>( 5 ), 192</td><td>( 2 ), 6</td><td>-</td><td>81.77</td></tr>\n",
       "            <tr><td>13</td><td>( 2 )</td><td>1024.100</td><td>( 3 ), 192</td><td>( 3 ), 6</td><td>-</td><td>81.88</td></tr>\n",
       "            <tr><td>14</td><td>( 2 )</td><td>1024.200</td><td>( 3 ), 192</td><td>(≥), 6</td><td>-</td><td>82.87</td></tr>\n",
       "            <tr><td>15</td><td>( 2 )</td><td>1024.200</td><td>( 3 ), 192</td><td>( 3 ), 6</td><td>-</td><td>82.97</td></tr>\n",
       "            <tr><td>16</td><td>( 2 )</td><td>1024.200</td><td>( 4 ), 288</td><td>( 3 ), 6</td><td>-</td><td>83.02</td></tr>\n",
       "            <tr><td>17</td><td>Q</td><td>1024.200</td><td>@, 288 ( 3 ), 192</td><td>( 3 ), 6</td><td>G</td><td>81.80</td></tr>\n",
       "            <tr><td>18</td><td>( 2 )</td><td>1024.200</td><td>Gly, 288 ( 3 ), 192</td><td>( 3 ), 6</td><td>( T )</td><td>82.50</td></tr>\n",
       "            <tr><td>19</td><td>Q</td><td>1024.200</td><td>@, 288 ( 3 ), 192</td><td>( 3 ), 6</td><td>(≥)</td><td>83.45</td></tr>\n",
       "            <tr><td>20</td><td>( 2 )</td><td>1024.200</td><td>Gly, 288 ( 3 ), 192</td><td>( 3 ), 6</td><td>( 3 )</td><td>83.70</td></tr>\n",
       "            <tr><td>21</td><td>Q</td><td>1024.200</td><td>@, 288 ( 3 ), 192</td><td>( 3 ), 6</td><td>Q</td><td>84.38</td></tr>\n",
       "        </tbody>\n",
       "    </table>\n",
       "</body>\n",
       "</html>\n",
       "```"
      ],
      "text/plain": [
       "<IPython.core.display.HTML object>"
      ]
     },
     "metadata": {},
     "output_type": "display_data"
    },
    {
     "name": "stdout",
     "output_type": "stream",
     "text": [
      "BEFORE\n"
     ]
    },
    {
     "data": {
      "text/html": [
       "<html>\n",
       "        <head> <meta charset=\"UTF-8\">\n",
       "        <style>\n",
       "        table, th, td {\n",
       "            border: 1px solid black;\n",
       "            font-size: 10px;\n",
       "        }\n",
       "        </style> </head>\n",
       "        <body>\n",
       "        <table frame=\"hsides\" rules=\"groups\" width=\"100%%\">\n",
       "            [html]<thead><tr><td>id</td><td>data</td><td>chunk</td><td>coarse ranking</td><td>re - ranking</td><td>fusion</td><td>image</td><td>answer merge</td><td>accuracy</td></tr></thead><tbody><tr><td>0</td><td>( 2 )</td><td>960.200</td><td>3.192</td><td>( 3.6</td><td>-</td><td>-</td><td>-</td><td>91.53</td></tr><tr><td>1</td><td>( 2 )</td><td>960.200</td><td>( 4 ), 288</td><td>( 3 ), 6</td><td>-</td><td>-</td><td>-</td><td>88.40</td></tr><tr><td>2</td><td>( 2 )</td><td>960.200</td><td>( 4 ), 288 ( 3 ), 192</td><td>( 3.6</td><td>(≥)</td><td>-</td><td>-</td><td>90.00</td></tr><tr><td>3</td><td>( 3 )</td><td>1024.200</td><td>( 3 ), 192</td><td>( 3.6</td><td>-</td><td>-</td><td>-</td><td>90.26</td></tr><tr><td>4</td><td>ð4Þ</td><td>1024.200</td><td>( 3 ), 192</td><td>3.6</td><td>-</td><td>-</td><td>-</td><td>91.38</td></tr><tr><td>5</td><td>( 3 )</td><td>1024.200</td><td>( 3 ), 192,( l )</td><td>3.6</td><td>-</td><td>-</td><td>-</td><td>92.70</td></tr><tr><td>6</td><td>( 3 )</td><td>1024.200</td><td>( 3 ), 192, Q</td><td>( 3.6, 1 )</td><td>-</td><td>-</td><td>-</td><td>89.30</td></tr><tr><td>7</td><td>( 3 )</td><td>1024.200</td><td>( 3 ), 192,( l )</td><td>3.6, 2</td><td>-</td><td>-</td><td>-</td><td>87.12</td></tr><tr><td>8</td><td>( 3 )</td><td>1024.200</td><td>( 3 ), 192,( 2 )</td><td>( 3.6</td><td>-</td><td>-</td><td>-</td><td>92.43</td></tr><tr><td>9</td><td>( 3 )</td><td>1024.200</td><td>( 3 ), 192,( 2 )</td><td>( 3.6,( T )</td><td>-</td><td>-</td><td>-</td><td>93.11</td></tr><tr><td>10</td><td>( 3 )</td><td>1024.200</td><td>( 3 ), 192,( 2 )</td><td>( 3.6,(≥)</td><td>-</td><td>-</td><td>-</td><td>90.17</td></tr><tr><td>11</td><td>( y )</td><td>1024.200</td><td>Q, 192, Q</td><td>Q, 6,°</td><td>-</td><td>OCR Filter</td><td>-</td><td>92.5</td></tr><tr><td>12</td><td>( 3 )</td><td>1024.200</td><td>( 3 ), 192,( 2 )</td><td>3.6,°</td><td>-</td><td>Rule Filter</td><td>-</td><td>94.24</td></tr><tr><td>13</td><td>( 3 )</td><td>1024.200</td><td>( 3 ), 192,( 2 ) ( 5 ), 6</td><td>( 3.6, Q</td><td>(@)</td><td>Rule Filter</td><td>-</td><td>94.49</td></tr><tr><td>14</td><td>( y )</td><td>1024.200</td><td>3.192, Q, 6</td><td>Q, 6,°</td><td>Q</td><td>Rule Filter</td><td>document concat</td><td>96.65</td></tr><tr><td>15</td><td>( y )</td><td>1024.200</td><td>3.192, Q, 6</td><td>Q, 6,°</td><td>Q</td><td>Rule Filter</td><td>prompt merge</td><td>95.72</td></tr></tbody>\n",
       "        </table> </body> </html>"
      ],
      "text/plain": [
       "<IPython.core.display.HTML object>"
      ]
     },
     "metadata": {},
     "output_type": "display_data"
    },
    {
     "name": "stdout",
     "output_type": "stream",
     "text": [
      "AFTER\n"
     ]
    },
    {
     "data": {
      "text/html": [
       "```html\n",
       "<html>\n",
       "<head> \n",
       "    <meta charset=\"UTF-8\">\n",
       "    <style>\n",
       "        table, th, td {\n",
       "            border: 1px solid black;\n",
       "            font-size: 10px;\n",
       "        }\n",
       "    </style> \n",
       "</head>\n",
       "<body>\n",
       "    <h2>Semi-final experimental results</h2>\n",
       "    <table frame=\"hsides\" rules=\"groups\" width=\"100%\">\n",
       "        <thead>\n",
       "            <tr>\n",
       "                <th>id</th>\n",
       "                <th>data</th>\n",
       "                <th>chunk</th>\n",
       "                <th>coarse ranking</th>\n",
       "                <th>re-ranking</th>\n",
       "                <th>fusion</th>\n",
       "                <th>image</th>\n",
       "                <th>answer merge</th>\n",
       "                <th>accuracy</th>\n",
       "            </tr>\n",
       "        </thead>\n",
       "        <tbody>\n",
       "            <tr>\n",
       "                <td>0</td>\n",
       "                <td>(2)</td>\n",
       "                <td>960, 200</td>\n",
       "                <td>3, 192</td>\n",
       "                <td>(3.6)</td>\n",
       "                <td>-</td>\n",
       "                <td>-</td>\n",
       "                <td>-</td>\n",
       "                <td>91.53</td>\n",
       "            </tr>\n",
       "            <tr>\n",
       "                <td>1</td>\n",
       "                <td>(2)</td>\n",
       "                <td>960, 200</td>\n",
       "                <td>(4), 288</td>\n",
       "                <td>(3), 6</td>\n",
       "                <td>-</td>\n",
       "                <td>-</td>\n",
       "                <td>-</td>\n",
       "                <td>88.40</td>\n",
       "            </tr>\n",
       "            <tr>\n",
       "                <td>2</td>\n",
       "                <td>(2)</td>\n",
       "                <td>960, 200</td>\n",
       "                <td>(4), 288 (3), 192</td>\n",
       "                <td>(3.6)</td>\n",
       "                <td>(≥)</td>\n",
       "                <td>-</td>\n",
       "                <td>-</td>\n",
       "                <td>90.00</td>\n",
       "            </tr>\n",
       "            <tr>\n",
       "                <td>3</td>\n",
       "                <td>(3)</td>\n",
       "                <td>1024, 200</td>\n",
       "                <td>(3), 192</td>\n",
       "                <td>(3.6)</td>\n",
       "                <td>-</td>\n",
       "                <td>-</td>\n",
       "                <td>-</td>\n",
       "                <td>90.26</td>\n",
       "            </tr>\n",
       "            <tr>\n",
       "                <td>4</td>\n",
       "                <td>(4)</td>\n",
       "                <td>1024, 200</td>\n",
       "                <td>(3), 192</td>\n",
       "                <td>3.6</td>\n",
       "                <td>-</td>\n",
       "                <td>-</td>\n",
       "                <td>-</td>\n",
       "                <td>91.38</td>\n",
       "            </tr>\n",
       "            <tr>\n",
       "                <td>5</td>\n",
       "                <td>(3)</td>\n",
       "                <td>1024, 200</td>\n",
       "                <td>(3), 192</td>\n",
       "                <td>3.6</td>\n",
       "                <td>-</td>\n",
       "                <td>-</td>\n",
       "                <td>-</td>\n",
       "                <td>92.70</td>\n",
       "            </tr>\n",
       "            <tr>\n",
       "                <td>6</td>\n",
       "                <td>(3)</td>\n",
       "                <td>1024, 200</td>\n",
       "                <td>(3), 192</td>\n",
       "                <td>(3.6, 1)</td>\n",
       "                <td>-</td>\n",
       "                <td>-</td>\n",
       "                <td>-</td>\n",
       "                <td>89.30</td>\n",
       "            </tr>\n",
       "            <tr>\n",
       "                <td>7</td>\n",
       "                <td>(3)</td>\n",
       "                <td>1024, 200</td>\n",
       "                <td>(3), 192</td>\n",
       "                <td>3.6, 2</td>\n",
       "                <td>-</td>\n",
       "                <td>-</td>\n",
       "                <td>-</td>\n",
       "                <td>87.12</td>\n",
       "            </tr>\n",
       "            <tr>\n",
       "                <td>8</td>\n",
       "                <td>(3)</td>\n",
       "                <td>1024, 200</td>\n",
       "                <td>(3), 192</td>\n",
       "                <td>(3.6)</td>\n",
       "                <td>-</td>\n",
       "                <td>-</td>\n",
       "                <td>-</td>\n",
       "                <td>92.43</td>\n",
       "            </tr>\n",
       "            <tr>\n",
       "                <td>9</td>\n",
       "                <td>(3)</td>\n",
       "                <td>1024, 200</td>\n",
       "                <td>(3), 192</td>\n",
       "                <td>(3.6)</td>\n",
       "                <td>-</td>\n",
       "                <td>-</td>\n",
       "                <td>-</td>\n",
       "                <td>93.11</td>\n",
       "            </tr>\n",
       "            <tr>\n",
       "                <td>10</td>\n",
       "                <td>(3)</td>\n",
       "                <td>1024, 200</td>\n",
       "                <td>(3), 192</td>\n",
       "                <td>(3.6)</td>\n",
       "                <td>-</td>\n",
       "                <td>-</td>\n",
       "                <td>-</td>\n",
       "                <td>90.17</td>\n",
       "            </tr>\n",
       "            <tr>\n",
       "                <td>11</td>\n",
       "                <td>(y)</td>\n",
       "                <td>1024, 200</td>\n",
       "                <td>Q, 192, Q</td>\n",
       "                <td>Q, 6</td>\n",
       "                <td>-</td>\n",
       "                <td>OCR Filter</td>\n",
       "                <td>-</td>\n",
       "                <td>92.5</td>\n",
       "            </tr>\n",
       "            <tr>\n",
       "                <td>12</td>\n",
       "                <td>(3)</td>\n",
       "                <td>1024, 200</td>\n",
       "                <td>(3), 192</td>\n",
       "                <td>3.6</td>\n",
       "                <td>-</td>\n",
       "                <td>Rule Filter</td>\n",
       "                <td>-</td>\n",
       "                <td>94.24</td>\n",
       "            </tr>\n",
       "            <tr>\n",
       "                <td>13</td>\n",
       "                <td>(3)</td>\n",
       "                <td>1024, 200</td>\n",
       "                <td>(3), 192 (5), 6</td>\n",
       "                <td>(3.6)</td>\n",
       "                <td>(@)</td>\n",
       "                <td>Rule Filter</td>\n",
       "                <td>-</td>\n",
       "                <td>94.49</td>\n",
       "            </tr>\n",
       "            <tr>\n",
       "                <td>14</td>\n",
       "                <td>(y)</td>\n",
       "                <td>1024, 200</td>\n",
       "                <td>3.192, Q, 6</td>\n",
       "                <td>Q, 6</td>\n",
       "                <td>Q</td>\n",
       "                <td>Rule Filter</td>\n",
       "                <td>document concat</td>\n",
       "                <td>96.65</td>\n",
       "            </tr>\n",
       "            <tr>\n",
       "                <td>15</td>\n",
       "                <td>(y)</td>\n",
       "                <td>1024, 200</td>\n",
       "                <td>3.192, Q, 6</td>\n",
       "                <td>Q, 6</td>\n",
       "                <td>Q</td>\n",
       "                <td>Rule Filter</td>\n",
       "                <td>prompt merge</td>\n",
       "                <td>95.72</td>\n",
       "            </tr>\n",
       "        </tbody>\n",
       "    </table>\n",
       "</body>\n",
       "</html>\n",
       "```"
      ],
      "text/plain": [
       "<IPython.core.display.HTML object>"
      ]
     },
     "metadata": {},
     "output_type": "display_data"
    },
    {
     "name": "stdout",
     "output_type": "stream",
     "text": [
      "BEFORE\n"
     ]
    },
    {
     "data": {
      "text/html": [
       "<html>\n",
       "        <head> <meta charset=\"UTF-8\">\n",
       "        <style>\n",
       "        table, th, td {\n",
       "            border: 1px solid black;\n",
       "            font-size: 10px;\n",
       "        }\n",
       "        </style> </head>\n",
       "        <body>\n",
       "        <table frame=\"hsides\" rules=\"groups\" width=\"100%%\">\n",
       "            [html]<thead><tr><td>Method</td><td>Preliminary Accuracy</td></tr></thead><tbody><tr><td>Original</td><td>82.0</td></tr><tr><td>Concat</td><td>78.2</td></tr><tr><td>Summary</td><td>79.4</td></tr></tbody>\n",
       "        </table> </body> </html>"
      ],
      "text/plain": [
       "<IPython.core.display.HTML object>"
      ]
     },
     "metadata": {},
     "output_type": "display_data"
    },
    {
     "name": "stdout",
     "output_type": "stream",
     "text": [
      "AFTER\n"
     ]
    },
    {
     "data": {
      "text/html": [
       "```html\n",
       "<html>\n",
       "    <head> \n",
       "        <meta charset=\"UTF-8\">\n",
       "        <style>\n",
       "            table, th, td {\n",
       "                border: 1px solid black;\n",
       "                font-size: 10px;\n",
       "            }\n",
       "        </style> \n",
       "    </head>\n",
       "    <body>\n",
       "        <h2>Preliminary Accuracy Results</h2>\n",
       "        <table frame=\"hsides\" rules=\"groups\" width=\"100%\">\n",
       "            <thead>\n",
       "                <tr>\n",
       "                    <th>Method</th>\n",
       "                    <th>Preliminary Accuracy (%)</th>\n",
       "                </tr>\n",
       "            </thead>\n",
       "            <tbody>\n",
       "                <tr>\n",
       "                    <td>Original</td>\n",
       "                    <td>82.0</td>\n",
       "                </tr>\n",
       "                <tr>\n",
       "                    <td>Concat</td>\n",
       "                    <td>78.2</td>\n",
       "                </tr>\n",
       "                <tr>\n",
       "                    <td>Summary</td>\n",
       "                    <td>79.4</td>\n",
       "                </tr>\n",
       "            </tbody>\n",
       "        </table> \n",
       "    </body> \n",
       "</html>\n",
       "```"
      ],
      "text/plain": [
       "<IPython.core.display.HTML object>"
      ]
     },
     "metadata": {},
     "output_type": "display_data"
    },
    {
     "name": "stdout",
     "output_type": "stream",
     "text": [
      "BEFORE\n"
     ]
    },
    {
     "data": {
      "text/html": [
       "<html>\n",
       "        <head> <meta charset=\"UTF-8\">\n",
       "        <style>\n",
       "        table, th, td {\n",
       "            border: 1px solid black;\n",
       "            font-size: 10px;\n",
       "        }\n",
       "        </style> </head>\n",
       "        <body>\n",
       "        <table frame=\"hsides\" rules=\"groups\" width=\"100%%\">\n",
       "            [html]<thead><tr><td>Method</td><td>| Semifinal Accuracy</td></tr></thead><tbody><tr><td>Original</td><td>92.7</td></tr><tr><td>Retrieval + HyDE</td><td>89.2</td></tr><tr><td>rerank + HyDE</td><td>88.2</td></tr></tbody>\n",
       "        </table> </body> </html>"
      ],
      "text/plain": [
       "<IPython.core.display.HTML object>"
      ]
     },
     "metadata": {},
     "output_type": "display_data"
    },
    {
     "name": "stdout",
     "output_type": "stream",
     "text": [
      "AFTER\n"
     ]
    },
    {
     "data": {
      "text/html": [
       "```html\n",
       "<html>\n",
       "    <head>\n",
       "        <meta charset=\"UTF-8\">\n",
       "        <style>\n",
       "        table, th, td {\n",
       "            border: 1px solid black;\n",
       "            font-size: 10px;\n",
       "        }\n",
       "        </style>\n",
       "    </head>\n",
       "    <body>\n",
       "        <h2>Table 4: HyDE Performance</h2>\n",
       "        <table frame=\"hsides\" rules=\"groups\" width=\"100%\">\n",
       "            <thead>\n",
       "                <tr>\n",
       "                    <th>Method</th>\n",
       "                    <th>Semifinal Accuracy</th>\n",
       "                </tr>\n",
       "            </thead>\n",
       "            <tbody>\n",
       "                <tr>\n",
       "                    <td>Original</td>\n",
       "                    <td>92.7</td>\n",
       "                </tr>\n",
       "                <tr>\n",
       "                    <td>Retrieval + HyDE</td>\n",
       "                    <td>89.2</td>\n",
       "                </tr>\n",
       "                <tr>\n",
       "                    <td>Rerank + HyDE</td>\n",
       "                    <td>88.2</td>\n",
       "                </tr>\n",
       "            </tbody>\n",
       "        </table>\n",
       "    </body>\n",
       "</html>\n",
       "```"
      ],
      "text/plain": [
       "<IPython.core.display.HTML object>"
      ]
     },
     "metadata": {},
     "output_type": "display_data"
    },
    {
     "name": "stdout",
     "output_type": "stream",
     "text": [
      "BEFORE\n"
     ]
    },
    {
     "data": {
      "text/html": [
       "<html>\n",
       "        <head> <meta charset=\"UTF-8\">\n",
       "        <style>\n",
       "        table, th, td {\n",
       "            border: 1px solid black;\n",
       "            font-size: 10px;\n",
       "        }\n",
       "        </style> </head>\n",
       "        <body>\n",
       "        <table frame=\"hsides\" rules=\"groups\" width=\"100%%\">\n",
       "            [html]<thead><tr><td>Prompt Type</td><td>Semi - final Accuracy</td></tr></thead><tbody><tr><td>Normal QA Template</td><td>94.49</td></tr><tr><td>CoT QA Template</td><td>89.75</td></tr><tr><td>Markdown Format QA Template</td><td>92.27</td></tr><tr><td>Focused QA Template</td><td>93.51</td></tr></tbody>\n",
       "        </table> </body> </html>"
      ],
      "text/plain": [
       "<IPython.core.display.HTML object>"
      ]
     },
     "metadata": {},
     "output_type": "display_data"
    },
    {
     "name": "stdout",
     "output_type": "stream",
     "text": [
      "AFTER\n"
     ]
    },
    {
     "data": {
      "text/html": [
       "```html\n",
       "<html>\n",
       "    <head> \n",
       "        <meta charset=\"UTF-8\">\n",
       "        <style>\n",
       "            table, th, td {\n",
       "                border: 1px solid black;\n",
       "                font-size: 10px;\n",
       "            }\n",
       "        </style> \n",
       "    </head>\n",
       "    <body>\n",
       "        <h2>Table 5: Effects of Different Prompts</h2>\n",
       "        <table frame=\"hsides\" rules=\"groups\" width=\"100%\">\n",
       "            <thead>\n",
       "                <tr>\n",
       "                    <th>Prompt Type</th>\n",
       "                    <th>Semi-final Accuracy</th>\n",
       "                </tr>\n",
       "            </thead>\n",
       "            <tbody>\n",
       "                <tr>\n",
       "                    <td>Normal QA Template</td>\n",
       "                    <td>94.49</td>\n",
       "                </tr>\n",
       "                <tr>\n",
       "                    <td>CoT QA Template</td>\n",
       "                    <td>89.75</td>\n",
       "                </tr>\n",
       "                <tr>\n",
       "                    <td>Markdown Format QA Template</td>\n",
       "                    <td>92.27</td>\n",
       "                </tr>\n",
       "                <tr>\n",
       "                    <td>Focused QA Template</td>\n",
       "                    <td>93.51</td>\n",
       "                </tr>\n",
       "            </tbody>\n",
       "        </table>\n",
       "    </body>\n",
       "</html>\n",
       "```"
      ],
      "text/plain": [
       "<IPython.core.display.HTML object>"
      ]
     },
     "metadata": {},
     "output_type": "display_data"
    },
    {
     "name": "stdout",
     "output_type": "stream",
     "text": [
      "BEFORE\n"
     ]
    },
    {
     "data": {
      "text/html": [
       "<html>\n",
       "        <head> <meta charset=\"UTF-8\">\n",
       "        <style>\n",
       "        table, th, td {\n",
       "            border: 1px solid black;\n",
       "            font-size: 10px;\n",
       "        }\n",
       "        </style> </head>\n",
       "        <body>\n",
       "        <table frame=\"hsides\" rules=\"groups\" width=\"100%%\">\n",
       "            [html]<thead><tr><td>Implementation</td><td>Time ( s )</td><td>Accuracy</td></tr></thead><tbody><tr><td>BM25Okapi</td><td>17</td><td>94.49</td></tr><tr><td>BM25s</td><td>0.05</td><td>94.24</td></tr></tbody>\n",
       "        </table> </body> </html>"
      ],
      "text/plain": [
       "<IPython.core.display.HTML object>"
      ]
     },
     "metadata": {},
     "output_type": "display_data"
    },
    {
     "name": "stdout",
     "output_type": "stream",
     "text": [
      "AFTER\n"
     ]
    },
    {
     "data": {
      "text/html": [
       "```html\n",
       "<html>\n",
       "    <head> \n",
       "        <meta charset=\"UTF-8\">\n",
       "        <style>\n",
       "            table, th, td {\n",
       "                border: 1px solid black;\n",
       "                font-size: 10px;\n",
       "            }\n",
       "        </style> \n",
       "    </head>\n",
       "    <body>\n",
       "        <h2>Table 6: Effects of BM25 acceleration on the test set.</h2>\n",
       "        <table frame=\"hsides\" rules=\"groups\" width=\"100%\">\n",
       "            <thead>\n",
       "                <tr>\n",
       "                    <th>Implementation</th>\n",
       "                    <th>Time (s)</th>\n",
       "                    <th>Accuracy (%)</th>\n",
       "                </tr>\n",
       "            </thead>\n",
       "            <tbody>\n",
       "                <tr>\n",
       "                    <td>BM25Okapi</td>\n",
       "                    <td>17</td>\n",
       "                    <td>94.49</td>\n",
       "                </tr>\n",
       "                <tr>\n",
       "                    <td>BM25s</td>\n",
       "                    <td>0.05</td>\n",
       "                    <td>94.24</td>\n",
       "                </tr>\n",
       "            </tbody>\n",
       "        </table>\n",
       "    </body>\n",
       "</html>\n",
       "```"
      ],
      "text/plain": [
       "<IPython.core.display.HTML object>"
      ]
     },
     "metadata": {},
     "output_type": "display_data"
    },
    {
     "name": "stdout",
     "output_type": "stream",
     "text": [
      "BEFORE\n"
     ]
    },
    {
     "data": {
      "text/html": [
       "<html>\n",
       "        <head> <meta charset=\"UTF-8\">\n",
       "        <style>\n",
       "        table, th, td {\n",
       "            border: 1px solid black;\n",
       "            font-size: 10px;\n",
       "        }\n",
       "        </style> </head>\n",
       "        <body>\n",
       "        <table frame=\"hsides\" rules=\"groups\" width=\"100%%\">\n",
       "            [html]<thead><tr><td>Method</td><td>Time ( s ) Similarity (%) Rank</td><td>8 - layer</td><td>1.67</td></tr></thead><tbody><tr><td>73</td><td>2.5</td><td>12 - layer</td><td>2.20</td></tr><tr><td>88</td><td>3.2</td><td>20 - layer</td><td>3.58</td></tr><tr><td>86</td><td>4.0</td><td>28 - layer</td><td>5.25</td></tr><tr><td>100</td><td>6.0</td><td>40 - layer</td><td>7.71</td></tr><tr><td>100</td><td>5.4</td><td>Maximum ( 0.1 )</td><td>2.59</td></tr><tr><td>90</td><td>3.7</td><td>Maximum ( 0.2 )</td><td>3.55</td></tr><tr><td>96</td><td>4.5</td><td>Maximum ( 0.4 )</td><td>4.57</td></tr><tr><td>97</td><td>5.4</td><td>Entropy ( 0.2 )</td><td>2.74</td></tr><tr><td>89</td><td>3.4</td><td>Entropy ( 0.4 )</td><td>3.37</td></tr><tr><td>91</td><td>3.6</td><td>Entropy ( 0.6 )</td><td>4.01</td></tr><tr><td>91</td><td>4.0</td></tr></tbody>\n",
       "        </table> </body> </html>"
      ],
      "text/plain": [
       "<IPython.core.display.HTML object>"
      ]
     },
     "metadata": {},
     "output_type": "display_data"
    },
    {
     "name": "stdout",
     "output_type": "stream",
     "text": [
      "AFTER\n"
     ]
    },
    {
     "data": {
      "text/html": [
       "```html\n",
       "<html>\n",
       "    <head> \n",
       "        <meta charset=\"UTF-8\">\n",
       "        <style>\n",
       "            table, th, td {\n",
       "                border: 1px solid black;\n",
       "                font-size: 10px;\n",
       "            }\n",
       "        </style> \n",
       "    </head>\n",
       "    <body>\n",
       "        <h2>Table 7: Reranker Acceleration Experiment</h2>\n",
       "        <table frame=\"hsides\" rules=\"groups\" width=\"100%\">\n",
       "            <thead>\n",
       "                <tr>\n",
       "                    <th>Method</th>\n",
       "                    <th>Time (s)</th>\n",
       "                    <th>Similarity (%)</th>\n",
       "                    <th>Rank</th>\n",
       "                </tr>\n",
       "            </thead>\n",
       "            <tbody>\n",
       "                <tr>\n",
       "                    <td>8 - layer</td>\n",
       "                    <td>1.67</td>\n",
       "                    <td>73</td>\n",
       "                    <td>2.5</td>\n",
       "                </tr>\n",
       "                <tr>\n",
       "                    <td>12 - layer</td>\n",
       "                    <td>2.20</td>\n",
       "                    <td>88</td>\n",
       "                    <td>3.2</td>\n",
       "                </tr>\n",
       "                <tr>\n",
       "                    <td>20 - layer</td>\n",
       "                    <td>3.58</td>\n",
       "                    <td>86</td>\n",
       "                    <td>4.0</td>\n",
       "                </tr>\n",
       "                <tr>\n",
       "                    <td>28 - layer</td>\n",
       "                    <td>5.25</td>\n",
       "                    <td>100</td>\n",
       "                    <td>6.0</td>\n",
       "                </tr>\n",
       "                <tr>\n",
       "                    <td>40 - layer</td>\n",
       "                    <td>7.71</td>\n",
       "                    <td>100</td>\n",
       "                    <td>5.4</td>\n",
       "                </tr>\n",
       "                <tr>\n",
       "                    <td>Maximum (0.1)</td>\n",
       "                    <td>2.59</td>\n",
       "                    <td>90</td>\n",
       "                    <td>3.7</td>\n",
       "                </tr>\n",
       "                <tr>\n",
       "                    <td>Maximum (0.2)</td>\n",
       "                    <td>3.55</td>\n",
       "                    <td>96</td>\n",
       "                    <td>4.5</td>\n",
       "                </tr>\n",
       "                <tr>\n",
       "                    <td>Maximum (0.4)</td>\n",
       "                    <td>4.57</td>\n",
       "                    <td>97</td>\n",
       "                    <td>5.4</td>\n",
       "                </tr>\n",
       "                <tr>\n",
       "                    <td>Entropy (0.2)</td>\n",
       "                    <td>2.74</td>\n",
       "                    <td>89</td>\n",
       "                    <td>3.4</td>\n",
       "                </tr>\n",
       "                <tr>\n",
       "                    <td>Entropy (0.4)</td>\n",
       "                    <td>3.37</td>\n",
       "                    <td>91</td>\n",
       "                    <td>3.6</td>\n",
       "                </tr>\n",
       "                <tr>\n",
       "                    <td>Entropy (0.6)</td>\n",
       "                    <td>4.01</td>\n",
       "                    <td>91</td>\n",
       "                    <td>4.0</td>\n",
       "                </tr>\n",
       "            </tbody>\n",
       "        </table>\n",
       "    </body>\n",
       "</html>\n",
       "```"
      ],
      "text/plain": [
       "<IPython.core.display.HTML object>"
      ]
     },
     "metadata": {},
     "output_type": "display_data"
    },
    {
     "name": "stdout",
     "output_type": "stream",
     "text": [
      "BEFORE\n"
     ]
    },
    {
     "data": {
      "text/html": [
       "<html>\n",
       "        <head> <meta charset=\"UTF-8\">\n",
       "        <style>\n",
       "        table, th, td {\n",
       "            border: 1px solid black;\n",
       "            font-size: 10px;\n",
       "        }\n",
       "        </style> </head>\n",
       "        <body>\n",
       "        <table frame=\"hsides\" rules=\"groups\" width=\"100%%\">\n",
       "            [html]<thead><tr><td>Compression Algorithm</td><td>Compression Rate (%)</td><td>Tokens Saved</td><td>Accuracy</td><td>Time ( s )</td></tr></thead><tbody><tr><td>Original Context</td><td>100</td><td>0</td><td>94.49</td><td>9.30</td></tr><tr><td>LLMLingua ( 0.5 )</td><td>62.80</td><td>143k</td><td>83.44</td><td>10.47</td></tr><tr><td>LongLLMLingua ( 0.5 )</td><td>62.80</td><td>143k</td><td>80.86</td><td>10.52</td></tr><tr><td>BM25 - Extract ( 0.5 )</td><td>55.92</td><td>160k</td><td>86.48</td><td>7.70</td></tr><tr><td>BM25 - Extract ( 0.8 )</td><td>83.84</td><td>5 %</td><td>89.00</td><td>8.12</td></tr></tbody>\n",
       "        </table> </body> </html>"
      ],
      "text/plain": [
       "<IPython.core.display.HTML object>"
      ]
     },
     "metadata": {},
     "output_type": "display_data"
    },
    {
     "name": "stdout",
     "output_type": "stream",
     "text": [
      "AFTER\n"
     ]
    },
    {
     "data": {
      "text/html": [
       "```html\n",
       "<html>\n",
       "    <head> \n",
       "        <meta charset=\"UTF-8\">\n",
       "        <style>\n",
       "            table, th, td {\n",
       "                border: 1px solid black;\n",
       "                font-size: 10px;\n",
       "            }\n",
       "        </style> \n",
       "    </head>\n",
       "    <body>\n",
       "        <h2>Effects of context compression on the test set.</h2>\n",
       "        <table frame=\"hsides\" rules=\"groups\" width=\"100%\">\n",
       "            <thead>\n",
       "                <tr>\n",
       "                    <th>Compression Algorithm</th>\n",
       "                    <th>Compression Rate (%)</th>\n",
       "                    <th>Tokens Saved</th>\n",
       "                    <th>Accuracy (%)</th>\n",
       "                    <th>Time (s)</th>\n",
       "                </tr>\n",
       "            </thead>\n",
       "            <tbody>\n",
       "                <tr>\n",
       "                    <td>Original Context</td>\n",
       "                    <td>100.00</td>\n",
       "                    <td>0</td>\n",
       "                    <td>94.49</td>\n",
       "                    <td>9.30</td>\n",
       "                </tr>\n",
       "                <tr>\n",
       "                    <td>LLMLingua (0.5)</td>\n",
       "                    <td>62.80</td>\n",
       "                    <td>143k</td>\n",
       "                    <td>83.44</td>\n",
       "                    <td>10.47</td>\n",
       "                </tr>\n",
       "                <tr>\n",
       "                    <td>LongLLMLingua (0.5)</td>\n",
       "                    <td>62.80</td>\n",
       "                    <td>143k</td>\n",
       "                    <td>80.86</td>\n",
       "                    <td>10.52</td>\n",
       "                </tr>\n",
       "                <tr>\n",
       "                    <td>BM25 - Extract (0.5)</td>\n",
       "                    <td>55.92</td>\n",
       "                    <td>160k</td>\n",
       "                    <td>86.48</td>\n",
       "                    <td>7.70</td>\n",
       "                </tr>\n",
       "                <tr>\n",
       "                    <td>BM25 - Extract (0.8)</td>\n",
       "                    <td>83.84</td>\n",
       "                    <td>80k</td>\n",
       "                    <td>89.00</td>\n",
       "                    <td>8.12</td>\n",
       "                </tr>\n",
       "            </tbody>\n",
       "        </table> \n",
       "    </body> \n",
       "</html>\n",
       "```"
      ],
      "text/plain": [
       "<IPython.core.display.HTML object>"
      ]
     },
     "metadata": {},
     "output_type": "display_data"
    }
   ],
   "source": [
    "elements = []\n",
    "\n",
    "for node in parsed_basic_doc.nodes:\n",
    "    for idx, element in enumerate(node.elements):\n",
    "        if isinstance(element, TableElement) or isinstance(element, TextElement):\n",
    "            elements.append(element)\n",
    "\n",
    "window_size = 9\n",
    "\n",
    "table_elements = [(idx, element) for idx, element in enumerate(elements) if isinstance(element, TableElement)]\n",
    "text_elements = [element for element in elements if isinstance(element, TextElement)]\n",
    "\n",
    "for i, (element_index, table) in enumerate(table_elements):\n",
    "    print(\"BEFORE\")\n",
    "    display(HTML(table.text))\n",
    "    window_elements = text_elements[element_index - window_size//2 - i:element_index + window_size//2 - i]\n",
    "    window_contexts = [element.text for element in window_elements]\n",
    "    refined = refine(table.text.replace(\"[html]\", \"\"), [context for context in window_contexts])\n",
    "    print(\"AFTER\")\n",
    "    display(HTML(refined.replace(\"[html]\", \"\")))"
   ]
  },
  {
   "cell_type": "code",
   "execution_count": null,
   "metadata": {},
   "outputs": [],
   "source": []
  }
 ],
 "metadata": {
  "kernelspec": {
   "display_name": "venv",
   "language": "python",
   "name": "python3"
  },
  "language_info": {
   "codemirror_mode": {
    "name": "ipython",
    "version": 3
   },
   "file_extension": ".py",
   "mimetype": "text/x-python",
   "name": "python",
   "nbconvert_exporter": "python",
   "pygments_lexer": "ipython3",
   "version": "3.10.12"
  }
 },
 "nbformat": 4,
 "nbformat_minor": 2
}
