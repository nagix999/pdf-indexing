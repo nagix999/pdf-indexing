{
 "cells": [
  {
   "cell_type": "code",
   "execution_count": 2,
   "metadata": {},
   "outputs": [],
   "source": [
    "from typing import Optional, Dict\n",
    "\n",
    "import requests\n",
    "from pathlib import Path\n",
    "from bs4 import BeautifulSoup\n",
    "from urllib import request\n",
    "\n",
    "\n",
    "PDF_PATH = \"../data/pdf\"\n",
    "pdf_path = Path(PDF_PATH)\n",
    "\n",
    "if not pdf_path.exists():\n",
    "    pdf_path.mkdir()"
   ]
  },
  {
   "cell_type": "code",
   "execution_count": 3,
   "metadata": {},
   "outputs": [],
   "source": [
    "def get_pdf_info(id: str) -> Dict:\n",
    "    url = f\"https://arxiv.org/abs/{id}\"\n",
    "\n",
    "    response = requests.get(url)\n",
    "    soup = BeautifulSoup(response.text, \"html.parser\")\n",
    "\n",
    "    title_element = soup.select_one(\"h1.title\")\n",
    "    title = title_element.text[6:]\n",
    "\n",
    "    author_elements = soup.select(\"div.authors > a\")\n",
    "    authors = \", \".join([e.text for e in author_elements])\n",
    "\n",
    "    abstract_element = soup.select_one(\"blockquote.abstract\")\n",
    "    abstract = abstract_element.text[10:]\n",
    "\n",
    "    return {\n",
    "        \"title\": title,\n",
    "        \"authors\": authors,\n",
    "        \"abstract\": abstract\n",
    "    }\n",
    "\n",
    "def download_arxiv_pdf(id: str, pdf_path: Path) -> Optional[str]:\n",
    "    info = get_pdf_info(id)\n",
    "    url = f\"https://arxiv.org/pdf/{id}\"\n",
    "    filename = info[\"title\"] + \".pdf\"\n",
    "    filepath = pdf_path / filename\n",
    "    \n",
    "    try:\n",
    "        request.urlretrieve(url, filepath)\n",
    "        print(f\"다운로드 완료 - {filepath}\")\n",
    "        return filepath\n",
    "    except Exception as e:\n",
    "        print(e)\n",
    "        return None"
   ]
  },
  {
   "cell_type": "code",
   "execution_count": 4,
   "metadata": {},
   "outputs": [
    {
     "name": "stdout",
     "output_type": "stream",
     "text": [
      "다운로드 완료 - ../data/pdf/EasyRAG: Efficient Retrieval-Augmented Generation Framework for Automated Network Operations.pdf\n"
     ]
    }
   ],
   "source": [
    "# download single file\n",
    "arxiv_id = \"2410.10315\"\n",
    "\n",
    "filepath = download_arxiv_pdf(arxiv_id, pdf_path)"
   ]
  },
  {
   "cell_type": "code",
   "execution_count": 6,
   "metadata": {},
   "outputs": [
    {
     "name": "stdout",
     "output_type": "stream",
     "text": [
      "다운로드 완료 - ../data/pdf/EasyRAG: Efficient Retrieval-Augmented Generation Framework for Automated Network Operations.pdf\n",
      "다운로드 완료 - ../data/pdf/LightRAG: Simple and Fast Retrieval-Augmented Generation.pdf\n",
      "다운로드 완료 - ../data/pdf/Open-RAG: Enhanced Retrieval-Augmented Reasoning with Open-Source Large Language Models.pdf\n",
      "다운로드 완료 - ../data/pdf/Fact, Fetch, and Reason: A Unified Evaluation of Retrieval-Augmented Generation.pdf\n"
     ]
    },
    {
     "data": {
      "text/plain": [
       "[PosixPath('../data/pdf/EasyRAG: Efficient Retrieval-Augmented Generation Framework for Automated Network Operations.pdf'),\n",
       " PosixPath('../data/pdf/LightRAG: Simple and Fast Retrieval-Augmented Generation.pdf'),\n",
       " PosixPath('../data/pdf/Open-RAG: Enhanced Retrieval-Augmented Reasoning with Open-Source Large Language Models.pdf'),\n",
       " PosixPath('../data/pdf/Fact, Fetch, and Reason: A Unified Evaluation of Retrieval-Augmented Generation.pdf')]"
      ]
     },
     "execution_count": 6,
     "metadata": {},
     "output_type": "execute_result"
    }
   ],
   "source": [
    "# download multiple files\n",
    "ids = [\n",
    "    \"2410.10315\",\n",
    "    \"2410.05779\",\n",
    "    \"2410.01782\",\n",
    "    \"2409.12941\"\n",
    "]\n",
    "\n",
    "files = [download_arxiv_pdf(id, pdf_path) for id in ids]\n",
    "files"
   ]
  },
  {
   "cell_type": "code",
   "execution_count": null,
   "metadata": {},
   "outputs": [],
   "source": []
  }
 ],
 "metadata": {
  "kernelspec": {
   "display_name": "venv",
   "language": "python",
   "name": "python3"
  },
  "language_info": {
   "codemirror_mode": {
    "name": "ipython",
    "version": 3
   },
   "file_extension": ".py",
   "mimetype": "text/x-python",
   "name": "python",
   "nbconvert_exporter": "python",
   "pygments_lexer": "ipython3",
   "version": "3.10.12"
  }
 },
 "nbformat": 4,
 "nbformat_minor": 2
}
